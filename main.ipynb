{
 "cells": [
  {
   "cell_type": "markdown",
   "id": "eb6e3a74",
   "metadata": {},
   "source": []
  },
  {
   "cell_type": "code",
   "execution_count": 84,
   "id": "fc7ae691",
   "metadata": {},
   "outputs": [
    {
     "name": "stdout",
     "output_type": "stream",
     "text": [
      "            date                 datetime cash_type                 card  \\\n",
      "0     2024-03-01  2024-03-01 10:15:50.520      card  ANON-0000-0000-0001   \n",
      "1     2024-03-01  2024-03-01 12:19:22.539      card  ANON-0000-0000-0002   \n",
      "2     2024-03-01  2024-03-01 12:20:18.089      card  ANON-0000-0000-0002   \n",
      "3     2024-03-01  2024-03-01 13:46:33.006      card  ANON-0000-0000-0003   \n",
      "4     2024-03-01  2024-03-01 13:48:14.626      card  ANON-0000-0000-0004   \n",
      "...          ...                      ...       ...                  ...   \n",
      "3631  2025-03-23  2025-03-23 10:34:54.894      card  ANON-0000-0000-1158   \n",
      "3632  2025-03-23  2025-03-23 14:43:37.362      card  ANON-0000-0000-1315   \n",
      "3633  2025-03-23  2025-03-23 14:44:16.864      card  ANON-0000-0000-1315   \n",
      "3634  2025-03-23  2025-03-23 15:47:28.723      card  ANON-0000-0000-1316   \n",
      "3635  2025-03-23  2025-03-23 18:11:38.635      card  ANON-0000-0000-1275   \n",
      "\n",
      "      money    coffee_name  \n",
      "0     38.70          Latte  \n",
      "1     38.70  Hot Chocolate  \n",
      "2     38.70  Hot Chocolate  \n",
      "3     28.90      Americano  \n",
      "4     38.70          Latte  \n",
      "...     ...            ...  \n",
      "3631  35.76     Cappuccino  \n",
      "3632  35.76          Cocoa  \n",
      "3633  35.76          Cocoa  \n",
      "3634  25.96      Americano  \n",
      "3635  35.76          Latte  \n",
      "\n",
      "[3636 rows x 6 columns]\n"
     ]
    }
   ],
   "source": [
    "#Trazendo os dados de vendas\n",
    "import pandas as pd\n",
    "\n",
    "sales = pd.read_csv('bases/data_base.csv')\n",
    "print(sales)"
   ]
  },
  {
   "cell_type": "code",
   "execution_count": 82,
   "id": "4ae23799",
   "metadata": {},
   "outputs": [
    {
     "data": {
      "text/html": [
       "<div>\n",
       "<style scoped>\n",
       "    .dataframe tbody tr th:only-of-type {\n",
       "        vertical-align: middle;\n",
       "    }\n",
       "\n",
       "    .dataframe tbody tr th {\n",
       "        vertical-align: top;\n",
       "    }\n",
       "\n",
       "    .dataframe thead th {\n",
       "        text-align: right;\n",
       "    }\n",
       "</style>\n",
       "<table border=\"1\" class=\"dataframe\">\n",
       "  <thead>\n",
       "    <tr style=\"text-align: right;\">\n",
       "      <th></th>\n",
       "      <th>date</th>\n",
       "      <th>qtd</th>\n",
       "    </tr>\n",
       "  </thead>\n",
       "  <tbody>\n",
       "    <tr>\n",
       "      <th>0</th>\n",
       "      <td>2024-03-01</td>\n",
       "      <td>5</td>\n",
       "    </tr>\n",
       "    <tr>\n",
       "      <th>1</th>\n",
       "      <td>2024-03-02</td>\n",
       "      <td>3</td>\n",
       "    </tr>\n",
       "    <tr>\n",
       "      <th>2</th>\n",
       "      <td>2024-03-03</td>\n",
       "      <td>6</td>\n",
       "    </tr>\n",
       "    <tr>\n",
       "      <th>3</th>\n",
       "      <td>2024-03-04</td>\n",
       "      <td>3</td>\n",
       "    </tr>\n",
       "    <tr>\n",
       "      <th>4</th>\n",
       "      <td>2024-03-05</td>\n",
       "      <td>4</td>\n",
       "    </tr>\n",
       "    <tr>\n",
       "      <th>...</th>\n",
       "      <td>...</td>\n",
       "      <td>...</td>\n",
       "    </tr>\n",
       "    <tr>\n",
       "      <th>376</th>\n",
       "      <td>2025-03-19</td>\n",
       "      <td>8</td>\n",
       "    </tr>\n",
       "    <tr>\n",
       "      <th>377</th>\n",
       "      <td>2025-03-20</td>\n",
       "      <td>8</td>\n",
       "    </tr>\n",
       "    <tr>\n",
       "      <th>378</th>\n",
       "      <td>2025-03-21</td>\n",
       "      <td>5</td>\n",
       "    </tr>\n",
       "    <tr>\n",
       "      <th>379</th>\n",
       "      <td>2025-03-22</td>\n",
       "      <td>6</td>\n",
       "    </tr>\n",
       "    <tr>\n",
       "      <th>380</th>\n",
       "      <td>2025-03-23</td>\n",
       "      <td>4</td>\n",
       "    </tr>\n",
       "  </tbody>\n",
       "</table>\n",
       "<p>381 rows × 2 columns</p>\n",
       "</div>"
      ],
      "text/plain": [
       "           date  qtd\n",
       "0    2024-03-01    5\n",
       "1    2024-03-02    3\n",
       "2    2024-03-03    6\n",
       "3    2024-03-04    3\n",
       "4    2024-03-05    4\n",
       "..          ...  ...\n",
       "376  2025-03-19    8\n",
       "377  2025-03-20    8\n",
       "378  2025-03-21    5\n",
       "379  2025-03-22    6\n",
       "380  2025-03-23    4\n",
       "\n",
       "[381 rows x 2 columns]"
      ]
     },
     "metadata": {},
     "output_type": "display_data"
    }
   ],
   "source": [
    "#Filtrando os dados necessários\n",
    "\n",
    "sales = sales[[\"date\", \"coffee_name\"]]\n",
    "sales = sales.groupby(\"date\").size().reset_index(name=\"qtd\")\n",
    "# sales.set_index(\"date\", inplace=True) \n",
    "# sales[\"coffee_name\"] = sales[\"coffee_name\"].count()\n",
    "\n",
    "display(sales)"
   ]
  },
  {
   "cell_type": "code",
   "execution_count": 85,
   "id": "395c93ea",
   "metadata": {},
   "outputs": [
    {
     "data": {
      "text/plain": [
       "date\n",
       "2024-03-01    11\n",
       "2024-03-02     7\n",
       "2024-03-03    10\n",
       "2024-03-04     4\n",
       "2024-03-05     9\n",
       "              ..\n",
       "2025-03-19    21\n",
       "2025-03-20    20\n",
       "2025-03-21    20\n",
       "2025-03-22    12\n",
       "2025-03-23     6\n",
       "Name: coffee_name, Length: 381, dtype: int64"
      ]
     },
     "metadata": {},
     "output_type": "display_data"
    }
   ],
   "source": [
    "sales = sales[[\"date\", \"coffee_name\"]]\n",
    "sales = sales.groupby(\"date\")[\"coffee_name\"].count()\n",
    "\n",
    "display(sales)"
   ]
  }
 ],
 "metadata": {
  "kernelspec": {
   "display_name": "Python 3",
   "language": "python",
   "name": "python3"
  },
  "language_info": {
   "codemirror_mode": {
    "name": "ipython",
    "version": 3
   },
   "file_extension": ".py",
   "mimetype": "text/x-python",
   "name": "python",
   "nbconvert_exporter": "python",
   "pygments_lexer": "ipython3",
   "version": "3.13.1"
  }
 },
 "nbformat": 4,
 "nbformat_minor": 5
}
